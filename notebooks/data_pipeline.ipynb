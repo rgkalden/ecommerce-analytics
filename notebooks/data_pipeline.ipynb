{
 "cells": [
  {
   "cell_type": "code",
   "execution_count": 1,
   "metadata": {},
   "outputs": [],
   "source": [
    "import numpy as np\n",
    "import pandas as pd\n",
    "from google.cloud import bigquery\n",
    "import os"
   ]
  },
  {
   "cell_type": "code",
   "execution_count": 2,
   "metadata": {},
   "outputs": [
    {
     "name": "stdout",
     "output_type": "stream",
     "text": [
      "Loading BigQuery API Key...\n",
      "API Key Loaded\n"
     ]
    }
   ],
   "source": [
    "# Function to load bigquery API key to allow permissions to use \n",
    "# BigQuery client. Function not included with repo (gitignore) to keep the\n",
    "# API key hidden. Users will have to set up their own project and\n",
    "# permissions in Google Cloud to run this notebook.\n",
    "\n",
    "from apiconfig.config import set_bigquery_api_key\n",
    "set_bigquery_api_key()"
   ]
  },
  {
   "cell_type": "code",
   "execution_count": 3,
   "metadata": {},
   "outputs": [],
   "source": [
    "sql_query = '''\n",
    "\n",
    "SELECT \n",
    "fullVisitorId,\n",
    "visitId,\n",
    "date,\n",
    "visitNumber,\n",
    "totals.visits,\n",
    "totals.hits,\n",
    "totals.pageviews,\n",
    "totals.timeOnSite,\n",
    "totals.bounces,\n",
    "totals.transactions,\n",
    "totals.totalTransactionRevenue / 1000000 AS totalTransactionRevenue,\n",
    "device.deviceCategory,\n",
    "geoNetwork.country,\n",
    "trafficSource.source,\n",
    "channelGrouping\n",
    "FROM `bigquery-public-data.google_analytics_sample.ga_sessions_*`\n",
    "WHERE\n",
    "_TABLE_SUFFIX BETWEEN '20170101' AND '20170331'\n",
    "\n",
    "'''"
   ]
  },
  {
   "cell_type": "code",
   "execution_count": 4,
   "metadata": {},
   "outputs": [],
   "source": [
    "client = bigquery.Client(location='US', project='ecommerce-analytics-364919')\n",
    "\n",
    "query_job = client.query(sql_query)\n",
    "df = query_job.to_dataframe()"
   ]
  },
  {
   "cell_type": "code",
   "execution_count": 5,
   "metadata": {},
   "outputs": [
    {
     "data": {
      "text/html": [
       "<div>\n",
       "<style scoped>\n",
       "    .dataframe tbody tr th:only-of-type {\n",
       "        vertical-align: middle;\n",
       "    }\n",
       "\n",
       "    .dataframe tbody tr th {\n",
       "        vertical-align: top;\n",
       "    }\n",
       "\n",
       "    .dataframe thead th {\n",
       "        text-align: right;\n",
       "    }\n",
       "</style>\n",
       "<table border=\"1\" class=\"dataframe\">\n",
       "  <thead>\n",
       "    <tr style=\"text-align: right;\">\n",
       "      <th></th>\n",
       "      <th>fullVisitorId</th>\n",
       "      <th>visitId</th>\n",
       "      <th>date</th>\n",
       "      <th>visitNumber</th>\n",
       "      <th>visits</th>\n",
       "      <th>hits</th>\n",
       "      <th>pageviews</th>\n",
       "      <th>timeOnSite</th>\n",
       "      <th>bounces</th>\n",
       "      <th>transactions</th>\n",
       "      <th>totalTransactionRevenue</th>\n",
       "      <th>deviceCategory</th>\n",
       "      <th>country</th>\n",
       "      <th>source</th>\n",
       "      <th>channelGrouping</th>\n",
       "    </tr>\n",
       "  </thead>\n",
       "  <tbody>\n",
       "    <tr>\n",
       "      <th>0</th>\n",
       "      <td>7837769211973682944</td>\n",
       "      <td>1487056594</td>\n",
       "      <td>20170213</td>\n",
       "      <td>8</td>\n",
       "      <td>1</td>\n",
       "      <td>3</td>\n",
       "      <td>2</td>\n",
       "      <td>3</td>\n",
       "      <td>&lt;NA&gt;</td>\n",
       "      <td>&lt;NA&gt;</td>\n",
       "      <td>NaN</td>\n",
       "      <td>desktop</td>\n",
       "      <td>Japan</td>\n",
       "      <td>google</td>\n",
       "      <td>Organic Search</td>\n",
       "    </tr>\n",
       "    <tr>\n",
       "      <th>1</th>\n",
       "      <td>3895885034803274912</td>\n",
       "      <td>1487021424</td>\n",
       "      <td>20170213</td>\n",
       "      <td>1</td>\n",
       "      <td>1</td>\n",
       "      <td>3</td>\n",
       "      <td>2</td>\n",
       "      <td>6</td>\n",
       "      <td>&lt;NA&gt;</td>\n",
       "      <td>&lt;NA&gt;</td>\n",
       "      <td>NaN</td>\n",
       "      <td>desktop</td>\n",
       "      <td>United States</td>\n",
       "      <td>google</td>\n",
       "      <td>Organic Search</td>\n",
       "    </tr>\n",
       "    <tr>\n",
       "      <th>2</th>\n",
       "      <td>6591404145403083484</td>\n",
       "      <td>1487022808</td>\n",
       "      <td>20170213</td>\n",
       "      <td>1</td>\n",
       "      <td>1</td>\n",
       "      <td>3</td>\n",
       "      <td>2</td>\n",
       "      <td>21</td>\n",
       "      <td>&lt;NA&gt;</td>\n",
       "      <td>&lt;NA&gt;</td>\n",
       "      <td>NaN</td>\n",
       "      <td>mobile</td>\n",
       "      <td>Belgium</td>\n",
       "      <td>google</td>\n",
       "      <td>Organic Search</td>\n",
       "    </tr>\n",
       "    <tr>\n",
       "      <th>3</th>\n",
       "      <td>8493441812124793426</td>\n",
       "      <td>1487032023</td>\n",
       "      <td>20170213</td>\n",
       "      <td>1</td>\n",
       "      <td>1</td>\n",
       "      <td>3</td>\n",
       "      <td>2</td>\n",
       "      <td>29</td>\n",
       "      <td>&lt;NA&gt;</td>\n",
       "      <td>&lt;NA&gt;</td>\n",
       "      <td>NaN</td>\n",
       "      <td>desktop</td>\n",
       "      <td>United States</td>\n",
       "      <td>google</td>\n",
       "      <td>Organic Search</td>\n",
       "    </tr>\n",
       "    <tr>\n",
       "      <th>4</th>\n",
       "      <td>9637725772340958472</td>\n",
       "      <td>1487046048</td>\n",
       "      <td>20170213</td>\n",
       "      <td>1</td>\n",
       "      <td>1</td>\n",
       "      <td>3</td>\n",
       "      <td>2</td>\n",
       "      <td>72</td>\n",
       "      <td>&lt;NA&gt;</td>\n",
       "      <td>&lt;NA&gt;</td>\n",
       "      <td>NaN</td>\n",
       "      <td>desktop</td>\n",
       "      <td>India</td>\n",
       "      <td>google</td>\n",
       "      <td>Organic Search</td>\n",
       "    </tr>\n",
       "  </tbody>\n",
       "</table>\n",
       "</div>"
      ],
      "text/plain": [
       "         fullVisitorId     visitId      date  visitNumber  visits  hits  \\\n",
       "0  7837769211973682944  1487056594  20170213            8       1     3   \n",
       "1  3895885034803274912  1487021424  20170213            1       1     3   \n",
       "2  6591404145403083484  1487022808  20170213            1       1     3   \n",
       "3  8493441812124793426  1487032023  20170213            1       1     3   \n",
       "4  9637725772340958472  1487046048  20170213            1       1     3   \n",
       "\n",
       "   pageviews  timeOnSite  bounces  transactions  totalTransactionRevenue  \\\n",
       "0          2           3     <NA>          <NA>                      NaN   \n",
       "1          2           6     <NA>          <NA>                      NaN   \n",
       "2          2          21     <NA>          <NA>                      NaN   \n",
       "3          2          29     <NA>          <NA>                      NaN   \n",
       "4          2          72     <NA>          <NA>                      NaN   \n",
       "\n",
       "  deviceCategory        country  source channelGrouping  \n",
       "0        desktop          Japan  google  Organic Search  \n",
       "1        desktop  United States  google  Organic Search  \n",
       "2         mobile        Belgium  google  Organic Search  \n",
       "3        desktop  United States  google  Organic Search  \n",
       "4        desktop          India  google  Organic Search  "
      ]
     },
     "execution_count": 5,
     "metadata": {},
     "output_type": "execute_result"
    }
   ],
   "source": [
    "df.head()\n"
   ]
  },
  {
   "cell_type": "code",
   "execution_count": 6,
   "metadata": {},
   "outputs": [
    {
     "name": "stdout",
     "output_type": "stream",
     "text": [
      "<class 'pandas.core.frame.DataFrame'>\n",
      "RangeIndex: 196817 entries, 0 to 196816\n",
      "Data columns (total 15 columns):\n",
      " #   Column                   Non-Null Count   Dtype  \n",
      "---  ------                   --------------   -----  \n",
      " 0   fullVisitorId            196817 non-null  object \n",
      " 1   visitId                  196817 non-null  Int64  \n",
      " 2   date                     196817 non-null  object \n",
      " 3   visitNumber              196817 non-null  Int64  \n",
      " 4   visits                   196817 non-null  Int64  \n",
      " 5   hits                     196817 non-null  Int64  \n",
      " 6   pageviews                196803 non-null  Int64  \n",
      " 7   timeOnSite               98057 non-null   Int64  \n",
      " 8   bounces                  98521 non-null   Int64  \n",
      " 9   transactions             2288 non-null    Int64  \n",
      " 10  totalTransactionRevenue  2288 non-null    float64\n",
      " 11  deviceCategory           196817 non-null  object \n",
      " 12  country                  196817 non-null  object \n",
      " 13  source                   196817 non-null  object \n",
      " 14  channelGrouping          196817 non-null  object \n",
      "dtypes: Int64(8), float64(1), object(6)\n",
      "memory usage: 24.0+ MB\n"
     ]
    }
   ],
   "source": [
    "df.info()"
   ]
  },
  {
   "cell_type": "code",
   "execution_count": 7,
   "metadata": {},
   "outputs": [],
   "source": [
    "df.to_csv('overall_data.csv', index=False)"
   ]
  },
  {
   "cell_type": "code",
   "execution_count": null,
   "metadata": {},
   "outputs": [],
   "source": []
  }
 ],
 "metadata": {
  "kernelspec": {
   "display_name": "Python 3.9.13 ('ecommerce_analytics_env')",
   "language": "python",
   "name": "python3"
  },
  "language_info": {
   "codemirror_mode": {
    "name": "ipython",
    "version": 3
   },
   "file_extension": ".py",
   "mimetype": "text/x-python",
   "name": "python",
   "nbconvert_exporter": "python",
   "pygments_lexer": "ipython3",
   "version": "3.9.13"
  },
  "orig_nbformat": 4,
  "vscode": {
   "interpreter": {
    "hash": "51f059d53fabc29d0f594f83a4c81f16325e3a34c9a8d897307f65185099637a"
   }
  }
 },
 "nbformat": 4,
 "nbformat_minor": 2
}

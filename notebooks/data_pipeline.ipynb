{
 "cells": [
  {
   "cell_type": "code",
   "execution_count": 1,
   "metadata": {},
   "outputs": [],
   "source": [
    "import numpy as np\n",
    "import pandas as pd\n",
    "from google.cloud import bigquery\n",
    "import os"
   ]
  },
  {
   "cell_type": "code",
   "execution_count": 2,
   "metadata": {},
   "outputs": [
    {
     "name": "stdout",
     "output_type": "stream",
     "text": [
      "Loading BigQuery API Key...\n",
      "API Key Loaded\n"
     ]
    }
   ],
   "source": [
    "# Function to load bigquery API key to allow permissions to use \n",
    "# BigQuery client. Function not included with repo to keep the\n",
    "# API key hidden. Users will have to set up their own project and\n",
    "# permissions in Google Cloud to run this notebook.\n",
    "\n",
    "from apiconfig.config import set_bigquery_api_key\n",
    "set_bigquery_api_key()"
   ]
  },
  {
   "cell_type": "code",
   "execution_count": 3,
   "metadata": {},
   "outputs": [],
   "source": [
    "sql_query = '''\n",
    "\n",
    "SELECT \n",
    "fullVisitorId,\n",
    "visitId,\n",
    "date,\n",
    "visitNumber,\n",
    "totals.visits,\n",
    "totals.hits,\n",
    "totals.pageviews,\n",
    "totals.timeOnSite,\n",
    "totals.bounces,\n",
    "totals.transactions,\n",
    "totals.totalTransactionRevenue / 1000000 AS totalTransactionRevenue,\n",
    "device.deviceCategory,\n",
    "geoNetwork.country,\n",
    "trafficSource.source,\n",
    "channelGrouping\n",
    "FROM `bigquery-public-data.google_analytics_sample.ga_sessions_*`\n",
    "WHERE\n",
    "_TABLE_SUFFIX BETWEEN '20170101' AND '20170131'\n",
    "\n",
    "'''"
   ]
  },
  {
   "cell_type": "code",
   "execution_count": 4,
   "metadata": {},
   "outputs": [],
   "source": [
    "client = bigquery.Client(location='US', project='ecommerce-analytics-364919')\n",
    "\n",
    "query_job = client.query(sql_query)\n",
    "df = query_job.to_dataframe()"
   ]
  },
  {
   "cell_type": "code",
   "execution_count": 5,
   "metadata": {},
   "outputs": [
    {
     "data": {
      "text/html": [
       "<div>\n",
       "<style scoped>\n",
       "    .dataframe tbody tr th:only-of-type {\n",
       "        vertical-align: middle;\n",
       "    }\n",
       "\n",
       "    .dataframe tbody tr th {\n",
       "        vertical-align: top;\n",
       "    }\n",
       "\n",
       "    .dataframe thead th {\n",
       "        text-align: right;\n",
       "    }\n",
       "</style>\n",
       "<table border=\"1\" class=\"dataframe\">\n",
       "  <thead>\n",
       "    <tr style=\"text-align: right;\">\n",
       "      <th></th>\n",
       "      <th>fullVisitorId</th>\n",
       "      <th>visitId</th>\n",
       "      <th>date</th>\n",
       "      <th>visitNumber</th>\n",
       "      <th>visits</th>\n",
       "      <th>hits</th>\n",
       "      <th>pageviews</th>\n",
       "      <th>timeOnSite</th>\n",
       "      <th>bounces</th>\n",
       "      <th>transactions</th>\n",
       "      <th>totalTransactionRevenue</th>\n",
       "      <th>deviceCategory</th>\n",
       "      <th>country</th>\n",
       "      <th>source</th>\n",
       "      <th>channelGrouping</th>\n",
       "    </tr>\n",
       "  </thead>\n",
       "  <tbody>\n",
       "    <tr>\n",
       "      <th>0</th>\n",
       "      <td>6380625739879480331</td>\n",
       "      <td>1485515046</td>\n",
       "      <td>20170127</td>\n",
       "      <td>1</td>\n",
       "      <td>1</td>\n",
       "      <td>1</td>\n",
       "      <td>1</td>\n",
       "      <td>&lt;NA&gt;</td>\n",
       "      <td>1</td>\n",
       "      <td>&lt;NA&gt;</td>\n",
       "      <td>NaN</td>\n",
       "      <td>desktop</td>\n",
       "      <td>Italy</td>\n",
       "      <td>(direct)</td>\n",
       "      <td>Organic Search</td>\n",
       "    </tr>\n",
       "    <tr>\n",
       "      <th>1</th>\n",
       "      <td>5171703479284554898</td>\n",
       "      <td>1485514123</td>\n",
       "      <td>20170127</td>\n",
       "      <td>1</td>\n",
       "      <td>1</td>\n",
       "      <td>1</td>\n",
       "      <td>1</td>\n",
       "      <td>&lt;NA&gt;</td>\n",
       "      <td>1</td>\n",
       "      <td>&lt;NA&gt;</td>\n",
       "      <td>NaN</td>\n",
       "      <td>desktop</td>\n",
       "      <td>Croatia</td>\n",
       "      <td>(direct)</td>\n",
       "      <td>Organic Search</td>\n",
       "    </tr>\n",
       "    <tr>\n",
       "      <th>2</th>\n",
       "      <td>5306338675227486844</td>\n",
       "      <td>1485523388</td>\n",
       "      <td>20170127</td>\n",
       "      <td>1</td>\n",
       "      <td>1</td>\n",
       "      <td>1</td>\n",
       "      <td>1</td>\n",
       "      <td>&lt;NA&gt;</td>\n",
       "      <td>1</td>\n",
       "      <td>&lt;NA&gt;</td>\n",
       "      <td>NaN</td>\n",
       "      <td>desktop</td>\n",
       "      <td>Iceland</td>\n",
       "      <td>siliconvalley.about.com</td>\n",
       "      <td>Referral</td>\n",
       "    </tr>\n",
       "    <tr>\n",
       "      <th>3</th>\n",
       "      <td>5679671765152105885</td>\n",
       "      <td>1485549414</td>\n",
       "      <td>20170127</td>\n",
       "      <td>1</td>\n",
       "      <td>1</td>\n",
       "      <td>1</td>\n",
       "      <td>1</td>\n",
       "      <td>&lt;NA&gt;</td>\n",
       "      <td>1</td>\n",
       "      <td>&lt;NA&gt;</td>\n",
       "      <td>NaN</td>\n",
       "      <td>desktop</td>\n",
       "      <td>Ukraine</td>\n",
       "      <td>(direct)</td>\n",
       "      <td>Organic Search</td>\n",
       "    </tr>\n",
       "    <tr>\n",
       "      <th>4</th>\n",
       "      <td>9477190930349489962</td>\n",
       "      <td>1485554139</td>\n",
       "      <td>20170127</td>\n",
       "      <td>1</td>\n",
       "      <td>1</td>\n",
       "      <td>1</td>\n",
       "      <td>1</td>\n",
       "      <td>&lt;NA&gt;</td>\n",
       "      <td>1</td>\n",
       "      <td>&lt;NA&gt;</td>\n",
       "      <td>NaN</td>\n",
       "      <td>desktop</td>\n",
       "      <td>Germany</td>\n",
       "      <td>(direct)</td>\n",
       "      <td>Direct</td>\n",
       "    </tr>\n",
       "  </tbody>\n",
       "</table>\n",
       "</div>"
      ],
      "text/plain": [
       "         fullVisitorId     visitId      date  visitNumber  visits  hits  \\\n",
       "0  6380625739879480331  1485515046  20170127            1       1     1   \n",
       "1  5171703479284554898  1485514123  20170127            1       1     1   \n",
       "2  5306338675227486844  1485523388  20170127            1       1     1   \n",
       "3  5679671765152105885  1485549414  20170127            1       1     1   \n",
       "4  9477190930349489962  1485554139  20170127            1       1     1   \n",
       "\n",
       "   pageviews  timeOnSite  bounces  transactions  totalTransactionRevenue  \\\n",
       "0          1        <NA>        1          <NA>                      NaN   \n",
       "1          1        <NA>        1          <NA>                      NaN   \n",
       "2          1        <NA>        1          <NA>                      NaN   \n",
       "3          1        <NA>        1          <NA>                      NaN   \n",
       "4          1        <NA>        1          <NA>                      NaN   \n",
       "\n",
       "  deviceCategory  country                   source channelGrouping  \n",
       "0        desktop    Italy                 (direct)  Organic Search  \n",
       "1        desktop  Croatia                 (direct)  Organic Search  \n",
       "2        desktop  Iceland  siliconvalley.about.com        Referral  \n",
       "3        desktop  Ukraine                 (direct)  Organic Search  \n",
       "4        desktop  Germany                 (direct)          Direct  "
      ]
     },
     "execution_count": 5,
     "metadata": {},
     "output_type": "execute_result"
    }
   ],
   "source": [
    "df.head()\n"
   ]
  },
  {
   "cell_type": "code",
   "execution_count": 6,
   "metadata": {},
   "outputs": [
    {
     "name": "stdout",
     "output_type": "stream",
     "text": [
      "<class 'pandas.core.frame.DataFrame'>\n",
      "RangeIndex: 64694 entries, 0 to 64693\n",
      "Data columns (total 15 columns):\n",
      " #   Column                   Non-Null Count  Dtype  \n",
      "---  ------                   --------------  -----  \n",
      " 0   fullVisitorId            64694 non-null  object \n",
      " 1   visitId                  64694 non-null  Int64  \n",
      " 2   date                     64694 non-null  object \n",
      " 3   visitNumber              64694 non-null  Int64  \n",
      " 4   visits                   64694 non-null  Int64  \n",
      " 5   hits                     64694 non-null  Int64  \n",
      " 6   pageviews                64691 non-null  Int64  \n",
      " 7   timeOnSite               33286 non-null  Int64  \n",
      " 8   bounces                  31326 non-null  Int64  \n",
      " 9   transactions             697 non-null    Int64  \n",
      " 10  totalTransactionRevenue  697 non-null    float64\n",
      " 11  deviceCategory           64694 non-null  object \n",
      " 12  country                  64694 non-null  object \n",
      " 13  source                   64694 non-null  object \n",
      " 14  channelGrouping          64694 non-null  object \n",
      "dtypes: Int64(8), float64(1), object(6)\n",
      "memory usage: 7.9+ MB\n"
     ]
    }
   ],
   "source": [
    "df.info()"
   ]
  },
  {
   "cell_type": "code",
   "execution_count": 7,
   "metadata": {},
   "outputs": [],
   "source": [
    "df.to_csv('overall_data.csv', index=False)"
   ]
  }
 ],
 "metadata": {
  "kernelspec": {
   "display_name": "Python 3.9.13 ('ecommerce_analytics_env')",
   "language": "python",
   "name": "python3"
  },
  "language_info": {
   "codemirror_mode": {
    "name": "ipython",
    "version": 3
   },
   "file_extension": ".py",
   "mimetype": "text/x-python",
   "name": "python",
   "nbconvert_exporter": "python",
   "pygments_lexer": "ipython3",
   "version": "3.9.13"
  },
  "orig_nbformat": 4,
  "vscode": {
   "interpreter": {
    "hash": "51f059d53fabc29d0f594f83a4c81f16325e3a34c9a8d897307f65185099637a"
   }
  }
 },
 "nbformat": 4,
 "nbformat_minor": 2
}

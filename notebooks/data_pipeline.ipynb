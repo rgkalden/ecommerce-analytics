{
 "cells": [
  {
   "cell_type": "code",
   "execution_count": 1,
   "metadata": {},
   "outputs": [],
   "source": [
    "import numpy as np\n",
    "import pandas as pd\n",
    "from google.cloud import bigquery\n",
    "import os"
   ]
  },
  {
   "cell_type": "code",
   "execution_count": 2,
   "metadata": {},
   "outputs": [
    {
     "name": "stdout",
     "output_type": "stream",
     "text": [
      "Loading BigQuery API Key...\n",
      "API Key Loaded\n"
     ]
    }
   ],
   "source": [
    "# Function to load bigquery API key to allow permissions to use \n",
    "# BigQuery client. Function not included with repo to keep the\n",
    "# API key hidden. Users will have to set up their own project and\n",
    "# permissions in Google Cloud to run this notebook.\n",
    "\n",
    "from apiconfig.config import set_bigquery_api_key\n",
    "set_bigquery_api_key()"
   ]
  },
  {
   "cell_type": "code",
   "execution_count": 3,
   "metadata": {},
   "outputs": [],
   "source": [
    "sql_query = '''\n",
    "\n",
    "SELECT *\n",
    "FROM `bigquery-public-data.google_analytics_sample.ga_sessions_*`\n",
    "WHERE\n",
    "_TABLE_SUFFIX BETWEEN '20170101' AND '20170131'\n",
    "\n",
    "'''"
   ]
  },
  {
   "cell_type": "code",
   "execution_count": 4,
   "metadata": {},
   "outputs": [],
   "source": [
    "client = bigquery.Client(location='US', project='ecommerce-analytics-364919')\n",
    "\n",
    "query_job = client.query(sql_query)\n",
    "df = query_job.to_dataframe()"
   ]
  },
  {
   "cell_type": "code",
   "execution_count": 5,
   "metadata": {},
   "outputs": [
    {
     "data": {
      "text/html": [
       "<div>\n",
       "<style scoped>\n",
       "    .dataframe tbody tr th:only-of-type {\n",
       "        vertical-align: middle;\n",
       "    }\n",
       "\n",
       "    .dataframe tbody tr th {\n",
       "        vertical-align: top;\n",
       "    }\n",
       "\n",
       "    .dataframe thead th {\n",
       "        text-align: right;\n",
       "    }\n",
       "</style>\n",
       "<table border=\"1\" class=\"dataframe\">\n",
       "  <thead>\n",
       "    <tr style=\"text-align: right;\">\n",
       "      <th></th>\n",
       "      <th>visitorId</th>\n",
       "      <th>visitNumber</th>\n",
       "      <th>visitId</th>\n",
       "      <th>visitStartTime</th>\n",
       "      <th>date</th>\n",
       "      <th>totals</th>\n",
       "      <th>trafficSource</th>\n",
       "      <th>device</th>\n",
       "      <th>geoNetwork</th>\n",
       "      <th>customDimensions</th>\n",
       "      <th>hits</th>\n",
       "      <th>fullVisitorId</th>\n",
       "      <th>userId</th>\n",
       "      <th>clientId</th>\n",
       "      <th>channelGrouping</th>\n",
       "      <th>socialEngagementType</th>\n",
       "    </tr>\n",
       "  </thead>\n",
       "  <tbody>\n",
       "    <tr>\n",
       "      <th>0</th>\n",
       "      <td>&lt;NA&gt;</td>\n",
       "      <td>3</td>\n",
       "      <td>1483377958</td>\n",
       "      <td>1483377958</td>\n",
       "      <td>20170102</td>\n",
       "      <td>{'visits': 1, 'hits': 3, 'pageviews': 2, 'time...</td>\n",
       "      <td>{'referralPath': None, 'campaign': '(not set)'...</td>\n",
       "      <td>{'browser': 'Chrome', 'browserVersion': 'not a...</td>\n",
       "      <td>{'continent': 'Americas', 'subContinent': 'Nor...</td>\n",
       "      <td>[{'index': 4, 'value': 'North America'}]</td>\n",
       "      <td>[{'hitNumber': 1, 'time': 0, 'hour': 9, 'minut...</td>\n",
       "      <td>7853983340077380839</td>\n",
       "      <td>None</td>\n",
       "      <td>None</td>\n",
       "      <td>Organic Search</td>\n",
       "      <td>Not Socially Engaged</td>\n",
       "    </tr>\n",
       "    <tr>\n",
       "      <th>1</th>\n",
       "      <td>&lt;NA&gt;</td>\n",
       "      <td>1</td>\n",
       "      <td>1483417913</td>\n",
       "      <td>1483417913</td>\n",
       "      <td>20170102</td>\n",
       "      <td>{'visits': 1, 'hits': 3, 'pageviews': 2, 'time...</td>\n",
       "      <td>{'referralPath': None, 'campaign': '(not set)'...</td>\n",
       "      <td>{'browser': 'Android Webview', 'browserVersion...</td>\n",
       "      <td>{'continent': 'Asia', 'subContinent': 'Souther...</td>\n",
       "      <td>[{'index': 4, 'value': 'APAC'}]</td>\n",
       "      <td>[{'hitNumber': 1, 'time': 0, 'hour': 20, 'minu...</td>\n",
       "      <td>1907656505604317680</td>\n",
       "      <td>None</td>\n",
       "      <td>None</td>\n",
       "      <td>Direct</td>\n",
       "      <td>Not Socially Engaged</td>\n",
       "    </tr>\n",
       "    <tr>\n",
       "      <th>2</th>\n",
       "      <td>&lt;NA&gt;</td>\n",
       "      <td>2</td>\n",
       "      <td>1483386867</td>\n",
       "      <td>1483386867</td>\n",
       "      <td>20170102</td>\n",
       "      <td>{'visits': 1, 'hits': 3, 'pageviews': 2, 'time...</td>\n",
       "      <td>{'referralPath': None, 'campaign': '(not set)'...</td>\n",
       "      <td>{'browser': 'Firefox', 'browserVersion': 'not ...</td>\n",
       "      <td>{'continent': 'Europe', 'subContinent': 'Weste...</td>\n",
       "      <td>[{'index': 4, 'value': 'EMEA'}]</td>\n",
       "      <td>[{'hitNumber': 1, 'time': 0, 'hour': 11, 'minu...</td>\n",
       "      <td>3199685389244349328</td>\n",
       "      <td>None</td>\n",
       "      <td>None</td>\n",
       "      <td>Organic Search</td>\n",
       "      <td>Not Socially Engaged</td>\n",
       "    </tr>\n",
       "    <tr>\n",
       "      <th>3</th>\n",
       "      <td>&lt;NA&gt;</td>\n",
       "      <td>1</td>\n",
       "      <td>1483410081</td>\n",
       "      <td>1483410081</td>\n",
       "      <td>20170102</td>\n",
       "      <td>{'visits': 1, 'hits': 3, 'pageviews': 2, 'time...</td>\n",
       "      <td>{'referralPath': None, 'campaign': '(not set)'...</td>\n",
       "      <td>{'browser': 'UC Browser', 'browserVersion': 'n...</td>\n",
       "      <td>{'continent': 'Asia', 'subContinent': 'Souther...</td>\n",
       "      <td>[{'index': 4, 'value': 'APAC'}]</td>\n",
       "      <td>[{'hitNumber': 1, 'time': 0, 'hour': 18, 'minu...</td>\n",
       "      <td>4953355922404974938</td>\n",
       "      <td>None</td>\n",
       "      <td>None</td>\n",
       "      <td>Organic Search</td>\n",
       "      <td>Not Socially Engaged</td>\n",
       "    </tr>\n",
       "    <tr>\n",
       "      <th>4</th>\n",
       "      <td>&lt;NA&gt;</td>\n",
       "      <td>1</td>\n",
       "      <td>1483400201</td>\n",
       "      <td>1483400201</td>\n",
       "      <td>20170102</td>\n",
       "      <td>{'visits': 1, 'hits': 3, 'pageviews': 2, 'time...</td>\n",
       "      <td>{'referralPath': None, 'campaign': '(not set)'...</td>\n",
       "      <td>{'browser': 'Safari', 'browserVersion': 'not a...</td>\n",
       "      <td>{'continent': 'Americas', 'subContinent': 'Nor...</td>\n",
       "      <td>[{'index': 4, 'value': 'North America'}]</td>\n",
       "      <td>[{'hitNumber': 1, 'time': 0, 'hour': 15, 'minu...</td>\n",
       "      <td>9962697651094507932</td>\n",
       "      <td>None</td>\n",
       "      <td>None</td>\n",
       "      <td>Organic Search</td>\n",
       "      <td>Not Socially Engaged</td>\n",
       "    </tr>\n",
       "  </tbody>\n",
       "</table>\n",
       "</div>"
      ],
      "text/plain": [
       "   visitorId  visitNumber     visitId  visitStartTime      date  \\\n",
       "0       <NA>            3  1483377958      1483377958  20170102   \n",
       "1       <NA>            1  1483417913      1483417913  20170102   \n",
       "2       <NA>            2  1483386867      1483386867  20170102   \n",
       "3       <NA>            1  1483410081      1483410081  20170102   \n",
       "4       <NA>            1  1483400201      1483400201  20170102   \n",
       "\n",
       "                                              totals  \\\n",
       "0  {'visits': 1, 'hits': 3, 'pageviews': 2, 'time...   \n",
       "1  {'visits': 1, 'hits': 3, 'pageviews': 2, 'time...   \n",
       "2  {'visits': 1, 'hits': 3, 'pageviews': 2, 'time...   \n",
       "3  {'visits': 1, 'hits': 3, 'pageviews': 2, 'time...   \n",
       "4  {'visits': 1, 'hits': 3, 'pageviews': 2, 'time...   \n",
       "\n",
       "                                       trafficSource  \\\n",
       "0  {'referralPath': None, 'campaign': '(not set)'...   \n",
       "1  {'referralPath': None, 'campaign': '(not set)'...   \n",
       "2  {'referralPath': None, 'campaign': '(not set)'...   \n",
       "3  {'referralPath': None, 'campaign': '(not set)'...   \n",
       "4  {'referralPath': None, 'campaign': '(not set)'...   \n",
       "\n",
       "                                              device  \\\n",
       "0  {'browser': 'Chrome', 'browserVersion': 'not a...   \n",
       "1  {'browser': 'Android Webview', 'browserVersion...   \n",
       "2  {'browser': 'Firefox', 'browserVersion': 'not ...   \n",
       "3  {'browser': 'UC Browser', 'browserVersion': 'n...   \n",
       "4  {'browser': 'Safari', 'browserVersion': 'not a...   \n",
       "\n",
       "                                          geoNetwork  \\\n",
       "0  {'continent': 'Americas', 'subContinent': 'Nor...   \n",
       "1  {'continent': 'Asia', 'subContinent': 'Souther...   \n",
       "2  {'continent': 'Europe', 'subContinent': 'Weste...   \n",
       "3  {'continent': 'Asia', 'subContinent': 'Souther...   \n",
       "4  {'continent': 'Americas', 'subContinent': 'Nor...   \n",
       "\n",
       "                           customDimensions  \\\n",
       "0  [{'index': 4, 'value': 'North America'}]   \n",
       "1           [{'index': 4, 'value': 'APAC'}]   \n",
       "2           [{'index': 4, 'value': 'EMEA'}]   \n",
       "3           [{'index': 4, 'value': 'APAC'}]   \n",
       "4  [{'index': 4, 'value': 'North America'}]   \n",
       "\n",
       "                                                hits        fullVisitorId  \\\n",
       "0  [{'hitNumber': 1, 'time': 0, 'hour': 9, 'minut...  7853983340077380839   \n",
       "1  [{'hitNumber': 1, 'time': 0, 'hour': 20, 'minu...  1907656505604317680   \n",
       "2  [{'hitNumber': 1, 'time': 0, 'hour': 11, 'minu...  3199685389244349328   \n",
       "3  [{'hitNumber': 1, 'time': 0, 'hour': 18, 'minu...  4953355922404974938   \n",
       "4  [{'hitNumber': 1, 'time': 0, 'hour': 15, 'minu...  9962697651094507932   \n",
       "\n",
       "  userId clientId channelGrouping  socialEngagementType  \n",
       "0   None     None  Organic Search  Not Socially Engaged  \n",
       "1   None     None          Direct  Not Socially Engaged  \n",
       "2   None     None  Organic Search  Not Socially Engaged  \n",
       "3   None     None  Organic Search  Not Socially Engaged  \n",
       "4   None     None  Organic Search  Not Socially Engaged  "
      ]
     },
     "execution_count": 5,
     "metadata": {},
     "output_type": "execute_result"
    }
   ],
   "source": [
    "df.head()\n"
   ]
  },
  {
   "cell_type": "code",
   "execution_count": 6,
   "metadata": {},
   "outputs": [
    {
     "name": "stdout",
     "output_type": "stream",
     "text": [
      "<class 'pandas.core.frame.DataFrame'>\n",
      "RangeIndex: 64694 entries, 0 to 64693\n",
      "Data columns (total 16 columns):\n",
      " #   Column                Non-Null Count  Dtype \n",
      "---  ------                --------------  ----- \n",
      " 0   visitorId             0 non-null      Int64 \n",
      " 1   visitNumber           64694 non-null  Int64 \n",
      " 2   visitId               64694 non-null  Int64 \n",
      " 3   visitStartTime        64694 non-null  Int64 \n",
      " 4   date                  64694 non-null  object\n",
      " 5   totals                64694 non-null  object\n",
      " 6   trafficSource         64694 non-null  object\n",
      " 7   device                64694 non-null  object\n",
      " 8   geoNetwork            64694 non-null  object\n",
      " 9   customDimensions      64694 non-null  object\n",
      " 10  hits                  64694 non-null  object\n",
      " 11  fullVisitorId         64694 non-null  object\n",
      " 12  userId                0 non-null      object\n",
      " 13  clientId              0 non-null      object\n",
      " 14  channelGrouping       64694 non-null  object\n",
      " 15  socialEngagementType  64694 non-null  object\n",
      "dtypes: Int64(4), object(12)\n",
      "memory usage: 8.1+ MB\n"
     ]
    }
   ],
   "source": [
    "df.info()"
   ]
  },
  {
   "cell_type": "code",
   "execution_count": 8,
   "metadata": {},
   "outputs": [
    {
     "data": {
      "text/plain": [
       "Organic Search    28769\n",
       "Direct            13381\n",
       "Social            10454\n",
       "Referral           7648\n",
       "Paid Search        2533\n",
       "Affiliates         1243\n",
       "Display             660\n",
       "(Other)               6\n",
       "Name: channelGrouping, dtype: int64"
      ]
     },
     "execution_count": 8,
     "metadata": {},
     "output_type": "execute_result"
    }
   ],
   "source": [
    "df['channelGrouping'].value_counts()"
   ]
  },
  {
   "cell_type": "code",
   "execution_count": null,
   "metadata": {},
   "outputs": [],
   "source": []
  }
 ],
 "metadata": {
  "kernelspec": {
   "display_name": "Python 3.9.13 ('ecommerce_analytics_env')",
   "language": "python",
   "name": "python3"
  },
  "language_info": {
   "codemirror_mode": {
    "name": "ipython",
    "version": 3
   },
   "file_extension": ".py",
   "mimetype": "text/x-python",
   "name": "python",
   "nbconvert_exporter": "python",
   "pygments_lexer": "ipython3",
   "version": "3.9.13"
  },
  "orig_nbformat": 4,
  "vscode": {
   "interpreter": {
    "hash": "51f059d53fabc29d0f594f83a4c81f16325e3a34c9a8d897307f65185099637a"
   }
  }
 },
 "nbformat": 4,
 "nbformat_minor": 2
}
